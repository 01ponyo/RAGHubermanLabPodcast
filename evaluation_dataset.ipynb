{
  "nbformat": 4,
  "nbformat_minor": 0,
  "metadata": {
    "colab": {
      "provenance": [],
      "authorship_tag": "ABX9TyMW8faPspZ38UoK+F/YAT/y",
      "include_colab_link": true
    },
    "kernelspec": {
      "name": "python3",
      "display_name": "Python 3"
    },
    "language_info": {
      "name": "python"
    }
  },
  "cells": [
    {
      "cell_type": "markdown",
      "metadata": {
        "id": "view-in-github",
        "colab_type": "text"
      },
      "source": [
        "<a href=\"https://colab.research.google.com/github/01ponyo/RAGHubermanLabPodcast/blob/main/evaluation_dataset.ipynb\" target=\"_parent\"><img src=\"https://colab.research.google.com/assets/colab-badge.svg\" alt=\"Open In Colab\"/></a>"
      ]
    },
    {
      "cell_type": "markdown",
      "source": [
        "# Evaluation dataset for Huberman Lab Podcast RAG System"
      ],
      "metadata": {
        "id": "_gR7RbgS2ZC1"
      }
    },
    {
      "cell_type": "code",
      "source": [
        "    {\n",
        "        \"query\": \"How Andrew Huberman describes curiosity?\",\n",
        "        \"expected_chunk_ids\": [39, 40],\n",
        "        \"file_name\": \"102__transcript.txt\"\n",
        "    }"
      ],
      "metadata": {
        "id": "CDeKk2Pq9sYO"
      },
      "execution_count": null,
      "outputs": []
    },
    {
      "cell_type": "code",
      "source": [
        "    {\n",
        "        \"query\": \"What is play useful for?\",\n",
        "        \"expected_chunk_ids\": [30, 31, 32],\n",
        "        \"file_name\": \"73__transcript.txt\"\n",
        "    }"
      ],
      "metadata": {
        "id": "Jj6fRUKZ9ySE"
      },
      "execution_count": null,
      "outputs": []
    },
    {
      "cell_type": "code",
      "source": [
        "    {\n",
        "        \"query\": \"Do people hallucinate on ketamine?\",\n",
        "        \"expected_chunk_ids\": [28],\n",
        "        \"file_name\": \"93__transcript.txt\"\n",
        "    }"
      ],
      "metadata": {
        "id": "3MlvlHV5D6Py"
      },
      "execution_count": null,
      "outputs": []
    },
    {
      "cell_type": "code",
      "source": [
        "    {\n",
        "        \"query\": \"Are eating lots of plants healthy for you?\",\n",
        "        \"expected_chunk_ids\": [22, 23],\n",
        "        \"file_name\": \"61__transcript.txt\"\n",
        "    }"
      ],
      "metadata": {
        "id": "CIXPP4GlEqyE"
      },
      "execution_count": null,
      "outputs": []
    },
    {
      "cell_type": "code",
      "source": [
        "    {\n",
        "        \"query\": \"Is grass-fed beef better?\",\n",
        "        \"expected_chunk_ids\": [74, 75],\n",
        "        \"file_name\": \"61__transcript.txt\"\n",
        "    }"
      ],
      "metadata": {
        "id": "LsHfUVt4FIBa"
      },
      "execution_count": null,
      "outputs": []
    },
    {
      "cell_type": "code",
      "source": [
        "  {\n",
        "        \"query\": \"Does our brain have pain receptors?\",\n",
        "        \"expected_chunk_ids\": [19],\n",
        "        \"file_name\": \"101__transcript.txt\"\n",
        "    }"
      ],
      "metadata": {
        "id": "U3ypsHPGFTP3"
      },
      "execution_count": null,
      "outputs": []
    },
    {
      "cell_type": "code",
      "source": [
        "    {\n",
        "        \"query\": \"What happens while breathing?\",\n",
        "        \"expected_chunk_ids\": [26, 27],\n",
        "        \"file_name\": \"101__transcript.txt\"\n",
        "    }"
      ],
      "metadata": {
        "id": "qRwTMe9kF_Rk"
      },
      "execution_count": null,
      "outputs": []
    },
    {
      "cell_type": "code",
      "source": [
        "    {\n",
        "        \"query\": \"What makes life beatiful?\",\n",
        "        \"expected_chunk_ids\": [23, 24],\n",
        "        \"file_name\": \"102__transcript.txt\"\n",
        "    }"
      ],
      "metadata": {
        "id": "WwfDOJOxF_Jw"
      },
      "execution_count": null,
      "outputs": []
    },
    {
      "cell_type": "code",
      "source": [
        "    {\n",
        "        \"query\": \"What does Andrew Huberman think about autonomuos driving?\",\n",
        "        \"expected_chunk_ids\": [22, 23],\n",
        "        \"file_name\": \"102__transcript.txt\"\n",
        "    }"
      ],
      "metadata": {
        "id": "oUVnS1g8F-53"
      },
      "execution_count": null,
      "outputs": []
    },
    {
      "cell_type": "code",
      "source": [
        "    {\n",
        "        \"query\": \"Does Andrew Huberman have siblings?\",\n",
        "        \"expected_chunk_ids\": [65, 66],\n",
        "        \"file_name\": \"73__transcript.txt\"\n",
        "    }"
      ],
      "metadata": {
        "id": "Qyc5j1-2F-n2"
      },
      "execution_count": null,
      "outputs": []
    }
  ]
}